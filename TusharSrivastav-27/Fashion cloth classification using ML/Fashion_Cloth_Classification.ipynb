{
 "cells": [
  {
   "cell_type": "code",
   "execution_count": 74,
   "metadata": {
    "id": "bjwa9bt3o8DB"
   },
   "outputs": [],
   "source": [
    "import tensorflow as tf\n",
    "from tensorflow.keras.models import Sequential\n",
    "from tensorflow.keras.layers import Input, Dense\n",
    "import numpy as np"
   ]
  },
  {
   "cell_type": "code",
   "execution_count": 75,
   "metadata": {
    "id": "vLb-ipLWp6lk"
   },
   "outputs": [],
   "source": [
    "from keras.datasets import mnist\n",
    "data = tf.keras.datasets.fashion_mnist.load_data()"
   ]
  },
  {
   "cell_type": "code",
   "execution_count": 77,
   "metadata": {
    "id": "15aksxdyq7T6"
   },
   "outputs": [],
   "source": [
    "(x_train, y_train), (x_test, y_test) = tf.keras.datasets.fashion_mnist.load_data()"
   ]
  },
  {
   "cell_type": "code",
   "execution_count": 78,
   "metadata": {
    "colab": {
     "base_uri": "https://localhost:8080/",
     "height": 268
    },
    "id": "JzQ9fug0reLq",
    "outputId": "41c915d0-4bf7-4df6-c471-ce3f808e82c0"
   },
   "outputs": [
    {
     "data": {
      "image/png": "[encoded data removed]",
      "text/plain": [
       "<Figure size 432x288 with 4 Axes>"
      ]
     },
     "metadata": {
      "needs_background": "light",
      "tags": []
     },
     "output_type": "display_data"
    }
   ],
   "source": [
    "import matplotlib.pyplot as plt\n",
    "\n",
    "plt.subplot(221)\n",
    "plt.imshow(x_train[0], cmap=plt.get_cmap('gray'))\n",
    "plt.subplot(222)\n",
    "plt.imshow(x_train[1], cmap=plt.get_cmap('gray'))\n",
    "plt.subplot(223)\n",
    "plt.imshow(x_train[2], cmap=plt.get_cmap('gray'))\n",
    "plt.subplot(224)\n",
    "plt.imshow(x_train[3], cmap=plt.get_cmap('gray'))\n",
    "plt.show()\n"
   ]
  },
  {
   "cell_type": "code",
   "execution_count": 79,
   "metadata": {
    "colab": {
     "base_uri": "https://localhost:8080/"
    },
    "id": "2JFdVxUpsn1H",
    "outputId": "aa480973-90be-4946-f099-924ed1fe6192"
   },
   "outputs": [
    {
     "data": {
      "text/plain": [
       "(28, 28)"
      ]
     },
     "execution_count": 79,
     "metadata": {
      "tags": []
     },
     "output_type": "execute_result"
    }
   ],
   "source": [
    "x_train[0].shape"
   ]
  },
  {
   "cell_type": "code",
   "execution_count": 81,
   "metadata": {
    "id": "O4MA4OzKtCrd"
   },
   "outputs": [],
   "source": [
    "x_train = x_train.reshape((x_train.shape[0], 28*28)).astype('float32')\n",
    "x_test = x_test.reshape((x_test.shape[0], 28*28)).astype('float32')"
   ]
  },
  {
   "cell_type": "code",
   "execution_count": 83,
   "metadata": {
    "id": "2pmGN6bBtqMa"
   },
   "outputs": [],
   "source": [
    "x_train = x_train / 255\n",
    "x_test = x_test / 255"
   ]
  },
  {
   "cell_type": "code",
   "execution_count": 84,
   "metadata": {
    "colab": {
     "base_uri": "https://localhost:8080/"
    },
    "id": "h9cGrZlIt2CT",
    "outputId": "f01aed35-0ff4-4c1e-95c2-23e691c052cb"
   },
   "outputs": [
    {
     "data": {
      "text/plain": [
       "10"
      ]
     },
     "execution_count": 84,
     "metadata": {
      "tags": []
     },
     "output_type": "execute_result"
    }
   ],
   "source": [
    "from keras.utils import np_utils\n",
    "\n",
    "y_train = np_utils.to_categorical(y_train)\n",
    "y_test = np_utils.to_categorical(y_test)\n",
    "num_classes = y_test.shape[1]\n",
    "num_classes"
   ]
  },
  {
   "cell_type": "code",
   "execution_count": 85,
   "metadata": {
    "id": "bTikQB1QuYrU"
   },
   "outputs": [],
   "source": [
    "from keras.models import Sequential\n",
    "from keras.layers import Dense\n",
    "from keras.layers import Dropout"
   ]
  },
  {
   "cell_type": "code",
   "execution_count": 86,
   "metadata": {
    "id": "ssPGXEcbvFFq"
   },
   "outputs": [],
   "source": [
    "model = Sequential()\n",
    "model.add(Dense(32, input_dim = 28*28, activation='relu')) #hidden layer 1\n",
    "model.add(Dense(64, activation='relu'))                    #hidden layer 2\n",
    "model.add(Dense(128, activation='relu'))                   #hidden layer 3\n",
    "model.add(Dense(256, activation='relu'))                   #hidden layer 4\n",
    "model.add(Dense(512, activation='relu'))                   #hidden layer 5\n",
    "model.add(Dense(10, activation='softmax'))                 #output layer 1"
   ]
  },
  {
   "cell_type": "code",
   "execution_count": 88,
   "metadata": {
    "id": "0B5URWCKw0fs"
   },
   "outputs": [],
   "source": [
    "model.compile(loss='categorical_crossentropy', optimizer='adam', metrics=['accuracy'])"
   ]
  },
  {
   "cell_type": "code",
   "execution_count": 91,
   "metadata": {
    "colab": {
     "base_uri": "https://localhost:8080/"
    },
    "id": "crJ5tVNs2iph",
    "outputId": "f36d0793-555d-4778-ddad-a6190f6d3989"
   },
   "outputs": [
    {
     "name": "stdout",
     "output_type": "stream",
     "text": [
      "Model: \"sequential_7\"\n",
      "_________________________________________________________________\n",
      "Layer (type)                 Output Shape              Param #   \n",
      "=================================================================\n",
      "dense_21 (Dense)             (None, 32)                25120     \n",
      "_________________________________________________________________\n",
      "dense_22 (Dense)             (None, 64)                2112      \n",
      "_________________________________________________________________\n",
      "dense_23 (Dense)             (None, 128)               8320      \n",
      "_________________________________________________________________\n",
      "dense_24 (Dense)             (None, 256)               33024     \n",
      "_________________________________________________________________\n",
      "dense_25 (Dense)             (None, 512)               131584    \n",
      "_________________________________________________________________\n",
      "dense_26 (Dense)             (None, 10)                5130      \n",
      "=================================================================\n",
      "Total params: 205,290\n",
      "Trainable params: 205,290\n",
      "Non-trainable params: 0\n",
      "_________________________________________________________________\n"
     ]
    }
   ],
   "source": [
    "model.summary()"
   ]
  },
  {
   "cell_type": "code",
   "execution_count": 92,
   "metadata": {
    "colab": {
     "base_uri": "https://localhost:8080/"
    },
    "id": "_tGdSjje2rOR",
    "outputId": "ea337070-cff4-4075-b105-f4c6a67a97f6"
   },
   "outputs": [
    {
     "name": "stdout",
     "output_type": "stream",
     "text": [
      "Epoch 1/10\n",
      "480/480 [==============================] - 4s 7ms/step - loss: 1.4000 - accuracy: 0.4456 - val_loss: 0.7838 - val_accuracy: 0.6956\n",
      "Epoch 2/10\n",
      "480/480 [==============================] - 3s 7ms/step - loss: 0.7097 - accuracy: 0.7318 - val_loss: 0.6464 - val_accuracy: 0.7578\n",
      "Epoch 3/10\n",
      "480/480 [==============================] - 3s 7ms/step - loss: 0.6428 - accuracy: 0.7587 - val_loss: 0.6038 - val_accuracy: 0.7762\n",
      "Epoch 4/10\n",
      "480/480 [==============================] - 3s 7ms/step - loss: 0.5920 - accuracy: 0.7779 - val_loss: 0.5499 - val_accuracy: 0.7977\n",
      "Epoch 5/10\n",
      "480/480 [==============================] - 3s 7ms/step - loss: 0.5452 - accuracy: 0.7993 - val_loss: 0.5485 - val_accuracy: 0.8018\n",
      "Epoch 6/10\n",
      "480/480 [==============================] - 3s 7ms/step - loss: 0.5237 - accuracy: 0.8100 - val_loss: 0.5262 - val_accuracy: 0.8093\n",
      "Epoch 7/10\n",
      "480/480 [==============================] - 3s 7ms/step - loss: 0.4984 - accuracy: 0.8216 - val_loss: 0.5105 - val_accuracy: 0.8136\n",
      "Epoch 8/10\n",
      "480/480 [==============================] - 3s 7ms/step - loss: 0.4733 - accuracy: 0.8280 - val_loss: 0.4796 - val_accuracy: 0.8254\n",
      "Epoch 9/10\n",
      "480/480 [==============================] - 3s 7ms/step - loss: 0.4648 - accuracy: 0.8305 - val_loss: 0.4581 - val_accuracy: 0.8346\n",
      "Epoch 10/10\n",
      "480/480 [==============================] - 3s 7ms/step - loss: 0.4481 - accuracy: 0.8409 - val_loss: 0.4272 - val_accuracy: 0.8467\n"
     ]
    },
    {
     "data": {
      "text/plain": [
       "<tensorflow.python.keras.callbacks.History at 0x7fd51dd4e5c0>"
      ]
     },
     "execution_count": 92,
     "metadata": {
      "tags": []
     },
     "output_type": "execute_result"
    }
   ],
   "source": [
    "model.fit(x_train, y_train, validation_split=0.2, epochs=10, batch_size=100)"
   ]
  },
  {
   "cell_type": "code",
   "execution_count": 93,
   "metadata": {
    "colab": {
     "base_uri": "https://localhost:8080/"
    },
    "id": "E-vL-G7Z3Xgg",
    "outputId": "131b76c0-c51d-4919-8240-49b63a6a46dc"
   },
   "outputs": [
    {
     "name": "stdout",
     "output_type": "stream",
     "text": [
      "313/313 [==============================] - 1s 2ms/step - loss: 0.4472 - accuracy: 0.8364\n",
      "[0.44723066687583923, 0.8363999724388123]\n"
     ]
    }
   ],
   "source": [
    "scores = model.evaluate(x_test, y_test)\n",
    "print(scores)"
   ]
  },
  {
   "cell_type": "code",
   "execution_count": 94,
   "metadata": {
    "id": "bBEARCQk4j-n"
   },
   "outputs": [],
   "source": [
    "predictions=model.predict(x_test)\n",
    "label=[]\n",
    "for pred in predictions:\n",
    "  max_vel=max(pred)\n",
    "  for (i,p) in enumerate(pred):\n",
    "    if(p==max_vel):\n",
    "      label.append(i)"
   ]
  },
  {
   "cell_type": "code",
   "execution_count": 95,
   "metadata": {
    "colab": {
     "base_uri": "https://localhost:8080/",
     "height": 607
    },
    "id": "pV1aVGZZ-wAY",
    "outputId": "ded654a1-31d3-4482-ff14-83110991c01d"
   },
   "outputs": [
    {
     "data": {
      "image/png": "[encoded data removed]",
      "text/plain": [
       "<Figure size 720x720 with 4 Axes>"
      ]
     },
     "metadata": {
      "needs_background": "light",
      "tags": []
     },
     "output_type": "display_data"
    }
   ],
   "source": [
    "plt.figure(figsize=(10,10))\n",
    "plt.subplot(221)\n",
    "plt.imshow(x_test[0].reshape(28,28), cmap=plt.get_cmap('gray'))\n",
    "plt.title(f'PREDICTED: {label[0]}')\n",
    "plt.subplot(222)\n",
    "plt.imshow(x_test[1].reshape(28,28), cmap=plt.get_cmap('gray'))\n",
    "plt.title(f'PREDICTED: {label[1]}')\n",
    "plt.subplot(223)\n",
    "plt.imshow(x_test[2].reshape(28,28), cmap=plt.get_cmap('gray'))\n",
    "plt.title(f'PREDICTED: {label[2]}')\n",
    "plt.subplot(224)\n",
    "plt.imshow(x_test[3].reshape(28,28), cmap=plt.get_cmap('gray'))\n",
    "plt.title(f'PREDICTED: {label[3]}')\n",
    "plt.show()"
   ]
  }
 ],
 "metadata": {
  "colab": {
   "collapsed_sections": [],
   "name": "Data_Science_Project.ipynb",
   "provenance": []
  },
  "kernelspec": {
   "display_name": "Python 3",
   "language": "python",
   "name": "python3"
  },
  "language_info": {
   "codemirror_mode": {
    "name": "ipython",
    "version": 3
   },
   "file_extension": ".py",
   "mimetype": "text/x-python",
   "name": "python",
   "nbconvert_exporter": "python",
   "pygments_lexer": "ipython3",
   "version": "3.8.3"
  }
 },
 "nbformat": 4,
 "nbformat_minor": 1
}
